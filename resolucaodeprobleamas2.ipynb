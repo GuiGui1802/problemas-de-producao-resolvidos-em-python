{
 "cells": [
  {
   "cell_type": "markdown",
   "id": "19b2ef21-10cf-4312-bf64-c62ab2237bd5",
   "metadata": {},
   "source": [
    "## Problema 1: Problema de investimento\n",
    "\n",
    "Considere um capital para investimento de $b=100$ em $n=8$ projetos, com os seguintes vetores de parâmetros:\n",
    "$$\n",
    "\\begin{align}\n",
    "  p &= [41, 33, 14, 25, 32, 32, 9, 19], \\\\\n",
    "  a &= [47, 40, 17, 27, 34, 23, 5, 44].\n",
    "\\end{align}\n",
    "$$\n",
    "\n",
    "Obtenha\n",
    "\n",
    "1. Uma solução heurística para este problema.\n",
    "2. Dê a solução ótima mostrando quais foram os investimentos escolhidos e o lucro obtido.\n",
    "3. Perceba a praticidade da implementação escolhendo outro capital (por exemplo, $b=90$).\n",
    "\n",
    "### Formulação\n",
    "$$\n",
    "\\begin{align}\n",
    "  \\text{máx.} & \\sum_{j=1}^{n} p_j x_j \\\\\n",
    "  \\text{s.a.} & \\sum_{j=1}^{n} a_j x_j \\leq b \\\\\n",
    "              & x_i \\in \\mathbb{B}, i = 1, 2, \\ldots, n\n",
    "\\end{align}\n",
    "$$"
   ]
  },
  {
   "cell_type": "code",
   "execution_count": null,
   "id": "33b171c9",
   "metadata": {},
   "outputs": [],
   "source": [
    "from docplex.mp.model import Model\n",
    "\n",
    "#atribuicao de valores\n",
    "p = [41, 33, 14, 25, 32, 32, 9, 19]\n",
    "a = [47, 40, 17, 27, 34, 23, 5, 44]\n",
    "b =  100  #para que se faça um modelo com os valores alterados,nao ha necessidade de alterar as linhas de codigo abaixo, apenas os valores da parte de cima\n",
    "n = 8\n",
    "\n",
    "#criacao do modelo\n",
    "m1 = Model(name = 'Problema de investimento')\n",
    "\n",
    "#criacao da variavel binaria x\n",
    "x = m1.binary_var_list(range(n), name = 'Decisao')\n",
    "\n",
    "#adicao da restricao\n",
    "m1.add_constraint((sum(a[j]*x[j] for j in range(n))) <= b)\n",
    "\n",
    "#aidcao da funcao objetiva\n",
    "m1.maximize(sum(p[i]*x[i] for i in range(n)))\n",
    "\n",
    "#resolucao\n",
    "sol1 = m1.solve()\n",
    "\n",
    "print(sol1)"
   ]
  },
  {
   "cell_type": "code",
   "execution_count": null,
   "id": "507b56b5",
   "metadata": {},
   "outputs": [],
   "source": [
    "from docplex.mp.model import Model\n",
    "\n",
    "#atribuicao de valores\n",
    "p = [41, 33, 14, 25, 32, 32, 9, 19]\n",
    "a = [47, 40, 17, 27, 34, 23, 5, 44]\n",
    "b =  75  #para que se faça um modelo com os valores alterados,nao ha necessidade de alterar as linhas de codigo abaixo, apenas os valores da parte de cima\n",
    "n = 8\n",
    "\n",
    "#criacao do modelo\n",
    "m1 = Model(name = 'Problema de investimento')\n",
    "\n",
    "#criacao da variavel binaria x\n",
    "x = m1.binary_var_list(range(n), name = 'Decisao')\n",
    "\n",
    "#adicao da restricao\n",
    "m1.add_constraint((sum(a[j]*x[j] for j in range(n))) <= b)\n",
    "\n",
    "#aidcao da funcao objetiva\n",
    "m1.maximize(sum(p[i]*x[i] for i in range(n)))\n",
    "\n",
    "#resolucao\n",
    "sol1 = m1.solve()\n",
    "\n",
    "print(sol1)"
   ]
  }
 ],
 "metadata": {
  "kernelspec": {
   "display_name": "Python 3 (ipykernel)",
   "language": "python",
   "name": "python3"
  },
  "language_info": {
   "codemirror_mode": {
    "name": "ipython",
    "version": 3
   },
   "file_extension": ".py",
   "mimetype": "text/x-python",
   "name": "python",
   "nbconvert_exporter": "python",
   "pygments_lexer": "ipython3",
   "version": "3.10.9"
  }
 },
 "nbformat": 4,
 "nbformat_minor": 5
}
