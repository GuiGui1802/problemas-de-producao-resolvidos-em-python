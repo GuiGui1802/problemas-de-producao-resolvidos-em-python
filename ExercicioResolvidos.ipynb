{
 "cells": [
  {
   "cell_type": "markdown",
   "id": "19b2ef21-10cf-4312-bf64-c62ab2237bd5",
   "metadata": {},
   "source": [
    "## Problema 1: Planejamento da produção\n",
    "\n",
    "Uma indústria moveleira dispõe de dois tipos de peças de madeira, $A$ e $B$, usadas para construir mesas e cadeiras. Como lucrar produzindo mesas e cadeiras com essas peças?\n",
    "\n",
    "|          | Mesas       | Cadeiras    | Total |\n",
    "|-:        |:-:          |:-:          |:-:    |\n",
    "|Lucro     | R$\\$$ 90,00 | R$\\$$ 60,00 | -     |\n",
    "|Peças $A$ | 2           | 2           | 14    |\n",
    "|Peças $B$ | 2           | 1           | 8     |\n",
    "\n",
    "\n",
    "\n",
    "\n"
   ]
  },
  {
   "cell_type": "code",
   "execution_count": null,
   "id": "e94b4127",
   "metadata": {
    "vscode": {
     "languageId": "plaintext"
    }
   },
   "outputs": [],
   "source": [
    "#criando o modelo m1\n",
    "m1 = Model(name = 'Planejamento de producao')\n",
    "\n",
    "#adicionando as variaveis ao modelo\n",
    "x1 = m1.continuous_var(name = 'qtdMesa')\n",
    "x2 = m1.continuous_var(name = 'qtdCadeira')\n",
    "\n",
    "#adicionando as restriçoes ao modelo\n",
    "pecasA = m1.add_constraint(2*x1 + 2*x2 <= 14)\n",
    "pecasB = m1.add_constraint(2*x1 + x2 <= 8)\n",
    "\n",
    "#adicionando a funcao objetiva ao modelo\n",
    "m1.maximize(x1*90 + x2*60)\n",
    "\n",
    "#resolvendo o modelo\n",
    "sol1 = m1.solve()\n",
    "\n",
    "print(sol1)"
   ]
  },
  {
   "cell_type": "markdown",
   "id": "6edb8fdb-7343-476b-8a49-d0bfe37c3bce",
   "metadata": {},
   "source": [
    "## Problema 2: Planejamento da produção de geladeiras\n",
    "\n",
    "Um fabricante de geladeiras precisa decidir quais modelos deve produzir em uma nova fábrica recentemente instalada. O departamento de marketing e vendas realizou uma pesquisa de mercado que indicou que, no máximo, 1.500 unidades do modelo de luxo e 6.000 unidades do modelo básico podem ser vendidas no proximo mês. A empresa ja contratou um certo numero de empregados e, com isso, dispõe de uma força de trabalho de 25.000 homens-hora por mês. Cada modelo de luxo requer dez homens-hora e cada modelo básico requer oito homens-hora para ser montado. \n",
    "\n",
    "Alem disso, uma mesma linha de montagem é compartilhada pelos dois modelos e considere que a capacidade de produção desta linha seja de 4.500 geladeiras por mês. O lucro unitário do modelo de luxo e de R$\\$$100,00 e do modelo básico é de R$\\$$50,00. Deseja-se determinar quanto produzir de cada modelo de modo a maximizar o lucro da empresa."
   ]
  },
  {
   "cell_type": "code",
   "execution_count": null,
   "id": "8b2c5da7",
   "metadata": {
    "vscode": {
     "languageId": "plaintext"
    }
   },
   "outputs": [],
   "source": [
    "#criando o modelo m2\n",
    "m2 = Model(name = 'Planejamento da producao de geladeiras')\n",
    "\n",
    "#adicionando as variaveis ao modelo\n",
    "y1 = m2.continuous_var(name =  'qtdLuxo')\n",
    "y2 = m2.continuous_var(name = 'qtdBasico')\n",
    "\n",
    "#adicionando as restriçoes ao modelo\n",
    "qtdMaxLuxo = m2.add_constraint(y1 <= 1500)\n",
    "qtdMaxBasico = m2.add_constraint(y2 <= 6000)\n",
    "qtdMaxTotal = m2.add_constraint(y1 + y2 <= 4500)\n",
    "homensDisponiveis = m2.add_constraint(10*y1 + 8*y2 <= 25000)\n",
    "\n",
    "#adicionando a funcao objetiva ao modelo\n",
    "m2.maximize(100*y1 + 50*y2)\n",
    "\n",
    "#resolvendo o modelo\n",
    "sol2 = m2.solve()\n",
    "\n",
    "print(sol2)"
   ]
  },
  {
   "cell_type": "markdown",
   "id": "df9bfded-a0c1-45da-8559-e0d553aa215b",
   "metadata": {},
   "source": [
    "## Problema 3: Ligas metálicas\n",
    "\n",
    "Uma metalúrgica produz dois tipos de ligas metálicas. Cada liga é composta de proporções diferentes de cobre, zinco e chumbo, os quais estão\n",
    "disponíveis em quantidades limitadas em estoque. Deseja-se determinar quanto produzir de cada liga metálica, de modo a maximizar a receita\n",
    "bruta, satisfazendo-se as seguintes composições das ligas e a disponibilidade de matéria-prima em estoque:\n",
    "\n",
    "| Matéria-prima | Liga 1 | Liga 2 | Estoque |\n",
    "| :-:           | :-:    | :-:    | :-:     |\n",
    "| Cobre         | 50%    | 30%    | 3 ton   |\n",
    "| Zinco         | 10%    | 20%    | 1 ton   |\n",
    "| Chumbo        | 40%    | 50%    | 3 ton   |\n",
    "| Preço de venda| 3 mil  | 2 mil  | R$\\$$ por ton |"
   ]
  },
  {
   "cell_type": "code",
   "execution_count": null,
   "id": "a5e36112",
   "metadata": {
    "vscode": {
     "languageId": "plaintext"
    }
   },
   "outputs": [],
   "source": [
    "#criando o modelo m3\n",
    "m3 = Model(name = 'Ligas Metalicas')\n",
    "\n",
    "#adicionando as variaveis ao modelo\n",
    "z1 = m3.continuous_var(name = 'qtdLiga1')\n",
    "z2 = m3.continuous_var(name = 'qtdLiga2')\n",
    "\n",
    "#adicionando as restriçoes ao modelo\n",
    "m3.add_constraint(0.5*z1 + 0.3*z2 <= 3)\n",
    "m3.add_constraint(0.1*z1 + 0.2*z2 <= 1)\n",
    "m3.add_constraint(0.4*z1 + 0.5*z2 <= 3)\n",
    "\n",
    "#adicionando a funcao objetiva ao modelo\n",
    "m3.maximize(3000*z1 + 2000*z2)\n",
    "\n",
    "#resolvendo o modelo\n",
    "sol3 = m3.solve()\n",
    "\n",
    "print(sol3)"
   ]
  },
  {
   "cell_type": "markdown",
   "id": "3d88636f-8604-4171-8b24-4230cbcf3ee7",
   "metadata": {},
   "source": [
    "## Problema 4: Problema da dieta\n",
    "\n",
    "Sabendo que cada alimento tem um certo custo e uma certa quantidade de nutrientes. Qual a dieta (de menor custo) que atende as restrições\n",
    "nutricionais?\n",
    "\n",
    "| Nutriente    | Grão 1 | Grão 2 | Grão 3 | Qtd mínima |\n",
    "| :-:          | :-:    | :-:    | :-:    | :-:        |\n",
    "| A            |  2 |  3 |  7 | 10 |\n",
    "| B            |  4 |  2 |  1 | 15 |\n",
    "| C            |  1 |  8 |  1 | 10 |\n",
    "| D            | 30 |  1 |  1 |  2 |\n",
    "| __Custo/kg__ | 20 | 10 | 10 |    |"
   ]
  },
  {
   "cell_type": "markdown",
   "id": "7f2216b8",
   "metadata": {},
   "source": [
    "#adicionando as variaveis ao modelo\n",
    "a1 = m4.continuous_var(name = 'qtd1')\n",
    "a2 = m4.continuous_var(name = 'qtd2')\n",
    "a3 = m4.continuous_var(name = 'qtd3')\n",
    "\n",
    "#adicionando as restriçoes ao modelo\n",
    "m4.add_constraint(2*a1 + 3*a2 + 7*a3 >= 10)\n",
    "m4.add_constraint(4*a1 + 2*a2 + a3 >= 15)\n",
    "m4.add_constraint(a1 + 8*a2 + a3 >= 10)\n",
    "m4.add_constraint(30*a1 + a2 + a3 >= 2)\n",
    "\n",
    "#adicionando a funcao objetiva ao modelo\n",
    "m4.minimize(20*a1 + 10*a2 +10*a3)\n",
    "\n",
    "#resolvendo o modelo\n",
    "sol4 = m4.solve()\n",
    "\n",
    "print(sol4)"
   ]
  },
  {
   "cell_type": "markdown",
   "id": "19d94161-0f7c-44d2-9356-594b53f338cb",
   "metadata": {},
   "source": [
    "## Problema 5: Problema de mistura\n",
    "\n",
    "Um certo óleo é refinado a partir da mistura de outros óleos, vegetais ou não vegetais: $V_1$ e $V_2$ (óleos vegetais) e $NV_1$, $NV_2$ e $NV_3$ (óleos não vegetais). Por restrições da fábrica, um máximo de 200 ton de óleos vegetais podem ser refinados por mês, e um máximo de 250 ton de óleos não vegetais. A acidez do óleo desejado deve estar entre 3 e 6 (dada uma unidade de medida) e a acidez depende linearmente das quantidades/acidez dos óleos brutos usados. O preço de venda de uma tonelada do óleo (produto final) é R$\\$$ 150,00. Calcule a mistura que maximiza o lucro, dado que:\n",
    "\n",
    "| Óleo      | $V_1$  | $V_2$  | $NV_1$ | $NV_2$ | $NV_3$ |\n",
    "| :-:       | :-: | :-: | :-: | :-: | :-: |\n",
    "| Custo/ton | 110 | 120 | 130 | 110 | 115 |\n",
    "| Acidez    | 8.8 | 6.1 | 2.0 | 4.2 | 5.0 |"
   ]
  },
  {
   "cell_type": "code",
   "execution_count": null,
   "id": "e75de0c3",
   "metadata": {
    "vscode": {
     "languageId": "plaintext"
    }
   },
   "outputs": [],
   "source": [
    "m5 = Model(name = 'Problema de mistura')\n",
    "\n",
    "#adicionando as variaveis ao modelo\n",
    "b1 = m5.continuous_var(name = 'tonV1')\n",
    "b2 = m5.continuous_var(name = 'tonV2')\n",
    "b3 = m5.continuous_var(name = 'tonNV1')\n",
    "b4 = m5.continuous_var(name = 'tonNV2')\n",
    "b5 = m5.continuous_var(name = 'tonNV3')\n",
    "\n",
    "#adicionando as restriçoes ao modelo\n",
    "m5.add_constraint(b1 + b2 <= 200)\n",
    "m5.add_constraint(b3 + b4 + b5 <= 250)\n",
    "m5.add_constraint(3*(b1 + b2 + b3 + b4 + b5) <= (8.8*b1 + 6.1*b2 + 2*b3 + 4.2*b4 + 5*b5))\n",
    "m5.add_constraint((8.8*b1 + 6.1*b2 + 2*b3 + 4.2*b4 + 5*b5) <= 6*(b1 + b2 + b3 + b4 + b5) )\n",
    "\n",
    "#adicionando a funcao objetiva ao modelo\n",
    "m5.maximize(150*(b1 + b2 + b3 + b4 + b5) - (110* b1 + 120*b2 + 130*b3 + 110*b4 + 115*b5))\n",
    "\n",
    "#resolvendo o modelo\n",
    "sol5 = m5.solve()\n",
    "\n",
    "print(sol5)"
   ]
  }
 ],
 "metadata": {
  "kernelspec": {
   "display_name": "Python 3 (ipykernel)",
   "language": "python",
   "name": "python3"
  },
  "language_info": {
   "codemirror_mode": {
    "name": "ipython",
    "version": 3
   },
   "file_extension": ".py",
   "mimetype": "text/x-python",
   "name": "python",
   "nbconvert_exporter": "python",
   "pygments_lexer": "ipython3",
   "version": "3.10.9"
  }
 },
 "nbformat": 4,
 "nbformat_minor": 5
}
